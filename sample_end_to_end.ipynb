{
 "cells": [
  {
   "cell_type": "code",
   "execution_count": null,
   "metadata": {},
   "outputs": [],
   "source": [
    "import matplotlib.pyplot as plt\n",
    "import numpy as np\n",
    "from filter_data_helpers import get_halos_based_on_filters, get_profiles\n",
    "\n",
    "HUBBLE = 0.6711"
   ]
  },
  {
   "cell_type": "code",
   "execution_count": null,
   "metadata": {},
   "outputs": [],
   "source": [
    "# Select halos based on mass cut and simulation ID\n",
    "halo_ids_result = get_halos_based_on_filters(\n",
    "    list_of_inequality_filters=[(\"M_Crit200\", 1/HUBBLE, 1e5/HUBBLE)],\n",
    "    list_of_equality_filters=[(\"simulation_unique_id\", [\"IllustrisTNG_1P_22\"])]\n",
    ")\n",
    "print(halo_ids_result)\n",
    "\n",
    "halo_IDs = halo_ids_result[\"ID\"]\n",
    "simulation_IDs = halo_ids_result[\"simulation_unique_id\"]\n",
    "print(halo_IDs)\n",
    "print(simulation_IDs)"
   ]
  },
  {
   "cell_type": "code",
   "execution_count": null,
   "metadata": {},
   "outputs": [],
   "source": [
    "# Select profiles for the filtered halo IDs\n",
    "profiles_result = get_profiles(\n",
    "    list_of_halo_ids=halo_IDs,\n",
    "    list_of_simulation_ids=simulation_IDs,\n",
    "    list_of_snapshots=[33],\n",
    "    list_of_properties=[\"gas_density\"]\n",
    ")\n",
    "\n",
    "print(profiles_result)\n",
    "\n",
    "# Rescale data to common units\n",
    "profiles_result[\"radius\"] *= 1 / (HUBBLE * 1e3) # Convert to Mpc\n",
    "profiles_result[\"property_value\"] *= 1e10 * HUBBLE * HUBBLE # Convert to Msun * kpc^-3"
   ]
  },
  {
   "cell_type": "code",
   "execution_count": null,
   "metadata": {},
   "outputs": [],
   "source": [
    "# Plot profiles for different halos\n",
    "profiles_result = profiles_result.pivot(index=\"radius\", columns=\"ID\", values=\"property_value\")\n",
    "print(profiles_result)"
   ]
  },
  {
   "cell_type": "code",
   "execution_count": null,
   "metadata": {},
   "outputs": [],
   "source": [
    "# Filter radial values\n",
    "profiles_result = profiles_result[(profiles_result.index > 0.01) & (profiles_result.index < 3)]"
   ]
  },
  {
   "cell_type": "code",
   "execution_count": null,
   "metadata": {},
   "outputs": [],
   "source": [
    "# Bin halo_IDs by M_Crit200\n",
    "mass_ranges = [(1, 2), (2, 10), (10, 100), (100, 1000)]\n",
    "label_mass_ranges = [(1e10*low/HUBBLE, 1e10*high/HUBBLE) for (low, high) in mass_ranges]\n",
    "halo_IDs_bins = [list(halo_ids_result[(halo_ids_result[\"M_Crit200\"] >= low) & (halo_ids_result[\"M_Crit200\"] < high)][\"ID\"]) for (low, high) in mass_ranges]\n",
    "print(halo_IDs_bins)"
   ]
  },
  {
   "cell_type": "code",
   "execution_count": null,
   "metadata": {},
   "outputs": [],
   "source": [
    "# Compute and plot percentiles of profile data\n",
    "fig, ax = plt.subplots(1, 1, figsize=(8, 5))\n",
    "\n",
    "\n",
    "for mass_range, halo_IDs_bin in zip(label_mass_ranges, halo_IDs_bins):\n",
    "    low, high = np.log10(mass_range)\n",
    "\n",
    "    binned_profiles = profiles_result[halo_IDs_bin]\n",
    "    print(binned_profiles)\n",
    "\n",
    "    profiles_16 = binned_profiles.quantile(q=0.16, axis=\"columns\")\n",
    "    profiles_84 = binned_profiles.quantile(q=0.84, axis=\"columns\")\n",
    "    profiles_median = binned_profiles.quantile(q=0.5, axis=\"columns\")\n",
    "    print(profiles_16)\n",
    "\n",
    "    ax.fill_between(profiles_16.index, profiles_16, profiles_84, alpha=0.2)\n",
    "    profiles_median.plot(label=f\"{low:.1f} <=\" + r\" $log_{10} (M_{200c} / M_{\\odot}) <$\" + f\" {high:.1f}\")\n",
    "\n",
    "# Display plot\n",
    "ax.set_xscale(\"log\")\n",
    "ax.set_yscale(\"log\")\n",
    "ax.set_xlabel(r\"$r$ (Mpc)\")\n",
    "ax.set_ylabel(r\"$\\rho_{gas}$ ($M_{\\odot} \\cdot kpc^{-3}$)\")\n",
    "\n",
    "plt.legend()\n",
    "plt.show()"
   ]
  },
  {
   "cell_type": "code",
   "execution_count": null,
   "metadata": {},
   "outputs": [],
   "source": []
  }
 ],
 "metadata": {
  "kernelspec": {
   "display_name": "Python 3",
   "language": "python",
   "name": "python3"
  },
  "language_info": {
   "codemirror_mode": {
    "name": "ipython",
    "version": 3
   },
   "file_extension": ".py",
   "mimetype": "text/x-python",
   "name": "python",
   "nbconvert_exporter": "python",
   "pygments_lexer": "ipython3",
   "version": "3.9.0"
  }
 },
 "nbformat": 4,
 "nbformat_minor": 4
}